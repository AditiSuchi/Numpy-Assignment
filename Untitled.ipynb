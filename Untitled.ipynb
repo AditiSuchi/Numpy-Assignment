{
 "cells": [
  {
   "cell_type": "code",
   "execution_count": null,
   "id": "e867e450-c7aa-4bab-933c-c280c8bcc39a",
   "metadata": {},
   "outputs": [],
   "source": [
    "# 1. What is a Python library? Why ^o we use Python libraries?\n",
    "# \n",
    "# Python libraries are collections of pre-written code and functions that extend the capabilities of the \n",
    "# Python programming language. They provide a wide range of tools and modules for various tasks, making it\n",
    "# easier for developers to work on specific tasks without reinventing the wheel"
   ]
  },
  {
   "cell_type": "code",
   "execution_count": null,
   "id": "5b43f0b2-0e20-407d-bbe6-27b4bc690791",
   "metadata": {},
   "outputs": [],
   "source": [
    "# 2. What is the ^ifference between Numpy array an^ List?\n",
    "#\n",
    "#  the main difference between python list and numpy array is that numpy array is homogeneity where as python\n",
    "# list is hetegoneity which means that python array can contain more  that one data type element.\n"
   ]
  },
  {
   "cell_type": "code",
   "execution_count": 8,
   "id": "9e63fee4-245d-4a77-bf79-f22cdb09268c",
   "metadata": {},
   "outputs": [
    {
     "name": "stdout",
     "output_type": "stream",
     "text": [
      "[[ 1  2  3  4]\n",
      " [ 5  6  7  8]\n",
      " [ 9 10 11 12]]\n",
      "the Shape of array is (3, 4), size is 12 and dimension is 2\n"
     ]
    }
   ],
   "source": [
    "# 3. Fin^ the shape, size an^ ^imension of the following array?\n",
    "\n",
    "import numpy as np\n",
    "arr =np.array([[1, 2, 3, 4],[5, 6, 7, 8],[9, 10, 11, 12]])\n",
    "# print(arr)\n",
    "a = arr.shape\n",
    "b= arr.size\n",
    "c=arr.ndim\n",
    "print(f\"the Shape of array is {a}, size is {b} and dimension is {c}\")\n",
    "\n"
   ]
  },
  {
   "cell_type": "code",
   "execution_count": 10,
   "id": "c1d6440b-5a10-45af-b5d1-516d4e35bc1d",
   "metadata": {},
   "outputs": [
    {
     "name": "stdout",
     "output_type": "stream",
     "text": [
      "[1 2 3 4]\n"
     ]
    }
   ],
   "source": [
    "# 4. Write python co^e to access the first row of the following array?\n",
    "\n",
    "arr =np.array([[1, 2, 3, 4],[5, 6, 7, 8],[9, 10, 11, 12]])\n",
    "print(arr[0])"
   ]
  },
  {
   "cell_type": "code",
   "execution_count": 13,
   "id": "92c50d43-f8ab-4b12-8ec4-1f1fd317cec0",
   "metadata": {},
   "outputs": [
    {
     "name": "stdout",
     "output_type": "stream",
     "text": [
      "12\n"
     ]
    }
   ],
   "source": [
    "# 5. How ^o you access the element at the thir^ row an^ fourth column from the given numpy array?\n",
    "\n",
    "arr =np.array([[1, 2, 3, 4],[5, 6, 7, 8],[9, 10, 11, 12]])\n",
    "print(arr[2,3])"
   ]
  },
  {
   "cell_type": "code",
   "execution_count": 16,
   "id": "edb8fe63-3827-4016-bc5d-3b56d2d5ff78",
   "metadata": {},
   "outputs": [
    {
     "name": "stdout",
     "output_type": "stream",
     "text": [
      "[ 1  3  5  7  9 11]\n"
     ]
    }
   ],
   "source": [
    "# 6. Write co^e to extract all o^^-in^exe^ elements from the given numpy array?\n",
    "arr =np.array([[1, 2, 3, 4],[5, 6, 7, 8],[9, 10, 11, 12]])\n",
    "print(arr[arr%2!=0])\n"
   ]
  },
  {
   "cell_type": "code",
   "execution_count": 17,
   "id": "8ed128f7-a071-4ff3-b4a2-57a57523b0ba",
   "metadata": {},
   "outputs": [
    {
     "name": "stdout",
     "output_type": "stream",
     "text": [
      "[[[0.77788211 0.70342326 0.02096143]\n",
      "  [0.61895447 0.29334419 0.58930125]\n",
      "  [0.1897032  0.83343395 0.732688  ]]\n",
      "\n",
      " [[0.22486251 0.65812594 0.61675911]\n",
      "  [0.94462378 0.92962036 0.3218198 ]\n",
      "  [0.42656437 0.40950848 0.47691363]]\n",
      "\n",
      " [[0.45984818 0.75022124 0.38055945]\n",
      "  [0.51539599 0.74117258 0.24373931]\n",
      "  [0.69926852 0.19096101 0.98598103]]]\n"
     ]
    }
   ],
   "source": [
    "# 7. How can you generate a ran^om 3x3 matrix with values between 0 an^ 1?\n",
    "x = np.random.random((3, 3, 3))\n",
    "print(x)"
   ]
  },
  {
   "cell_type": "code",
   "execution_count": null,
   "id": "98d72ff7-cda1-4834-8546-1e15e9ec926f",
   "metadata": {},
   "outputs": [],
   "source": [
    "# 8. Describe the ^ifference between np.ran^om.ran^ an^ np.ran^om.ran^n?\n",
    "# \n",
    "# numpy.random.randn generates samples from the normal distribution, while numpy.random.rand \n",
    "# from a uniform distribution (in the range [0,1))."
   ]
  },
  {
   "cell_type": "code",
   "execution_count": 40,
   "id": "41a57c3b-93cf-40cd-a492-070b02ea939b",
   "metadata": {},
   "outputs": [
    {
     "name": "stdout",
     "output_type": "stream",
     "text": [
      "None\n"
     ]
    }
   ],
   "source": [
    "# 9. Write co^e to increase the ^imension of the following array?\n",
    "arr =np.array([[1, 2, 3, 4],[5, 6, 7, 8],[9, 10, 11, 12]])\n",
    "print(arr.resize(3,4))\n"
   ]
  },
  {
   "cell_type": "code",
   "execution_count": 27,
   "id": "14e4d63c-ff5b-42a7-a375-720d1d6183cb",
   "metadata": {},
   "outputs": [
    {
     "name": "stdout",
     "output_type": "stream",
     "text": [
      "[[ 1  5  9]\n",
      " [ 2  6 10]\n",
      " [ 3  7 11]\n",
      " [ 4  8 12]]\n"
     ]
    }
   ],
   "source": [
    "# . How to transpose the following array in NumPy?\n",
    "arr =np.array([[1, 2, 3, 4],[5, 6, 7, 8],[9, 10, 11, 12]])\n",
    "b =np.transpose(arr)\n",
    "print(b)"
   ]
  },
  {
   "cell_type": "code",
   "execution_count": 33,
   "id": "3057463f-1400-437a-a0bc-99e7fb46b443",
   "metadata": {},
   "outputs": [
    {
     "name": "stdout",
     "output_type": "stream",
     "text": [
      "[[  1   4   9  16]\n",
      " [ 25  36  49  64]\n",
      " [ 81 100 121 144]]\n",
      "[[ 2  4  6  8]\n",
      " [10 12 14 16]\n",
      " [18 20 22 24]]\n",
      "[[0 0 0 0]\n",
      " [0 0 0 0]\n",
      " [0 0 0 0]]\n",
      "[[1. 1. 1. 1.]\n",
      " [1. 1. 1. 1.]\n",
      " [1. 1. 1. 1.]]\n"
     ]
    }
   ],
   "source": [
    "# 11. Consi^er the following matrix:\n",
    "\n",
    "# Matrix A2 [[1, 2, 3, 4] [5, 6, 7, 8],[9, 10, 11, 12]]\n",
    "\n",
    "# Matrix B2 [[1, 2, 3, 4] [5, 6, 7, 8],[9, 10, 11, 12]]\n",
    "\n",
    "\n",
    "# Perform the following operation using Python1\n",
    "# ,+ I(dex wiLe multiplicatio'\n",
    "# ]+ Mat\u001bix multiplicatio'\n",
    "# \u001a+ Add both the mat\u001bicK\n",
    "# -+ Subt\u001bact mat\u001bix B \u0014\u001bom\n",
    "\n",
    "a2 =np.array([[1, 2, 3, 4],[5, 6, 7, 8],[9, 10, 11, 12]])\n",
    "b2 =np.array([[1, 2, 3, 4],[5, 6, 7, 8],[9, 10, 11, 12]])\n",
    "\n",
    "# 1.\n",
    "print(a2*b2)\n",
    "# 2.\n",
    "c2 = a2 @ b2\n",
    "print(c2)\n",
    "# 3.\n",
    "print(a2+b2)\n",
    "# 4.\n",
    "print(a2-b2)\n",
    "# 5.\n",
    "print(b2/a2)"
   ]
  },
  {
   "cell_type": "code",
   "execution_count": 43,
   "id": "955d118b-e05f-4b2e-a130-5a99e1a21017",
   "metadata": {},
   "outputs": [
    {
     "name": "stdout",
     "output_type": "stream",
     "text": [
      "[[ 72057594037927936 144115188075855872 216172782113783808\n",
      "  288230376151711744]\n",
      " [360287970189639680 432345564227567616 504403158265495552\n",
      "  576460752303423488]\n",
      " [648518346341351424 720575940379279360 792633534417207296\n",
      "  864691128455135232]]\n"
     ]
    }
   ],
   "source": [
    "# 12.  Which function in Numpy can be use^ to swap the byte or^er of an array?\n",
    "arr =np.array([[1, 2, 3, 4],[5, 6, 7, 8],[9, 10, 11, 12]])\n",
    "\n",
    "print(arr.byteswap(True))\n"
   ]
  },
  {
   "cell_type": "code",
   "execution_count": null,
   "id": "3f7ff05c-a62c-4add-908c-9b2637c5215c",
   "metadata": {},
   "outputs": [],
   "source": [
    "# 13.  What is the significance of the np.linalg.inv function?\n",
    "# \n",
    "\n",
    "# We use np.linalg.inv() function to calculate the inverse of a matrix. \n"
   ]
  },
  {
   "cell_type": "code",
   "execution_count": null,
   "id": "a0b58004-e67c-4643-a712-f7bf9cc58c8e",
   "metadata": {},
   "outputs": [],
   "source": [
    "# 14. What ^oes the np.reshape function ^o, an^ how is it use^?\n",
    "# \n",
    "# reshape() function is used to create a new array of the same size (as the original array) but of different \n",
    "# desired dimensions. reshape() function will create an array with the same number of elements as the original\n",
    "# array, i.e. of the same size as that of the original array."
   ]
  },
  {
   "cell_type": "code",
   "execution_count": null,
   "id": "df5aa641-3ca8-4413-82c3-bff1a0229ea2",
   "metadata": {},
   "outputs": [],
   "source": [
    "# 15. What is broa^casting in Numpy?\n",
    "# \n",
    "#Broadcasting provides a means for vectorizing the array operations so that looping would take place in C \n"
   ]
  }
 ],
 "metadata": {
  "kernelspec": {
   "display_name": "Python 3 (ipykernel)",
   "language": "python",
   "name": "python3"
  },
  "language_info": {
   "codemirror_mode": {
    "name": "ipython",
    "version": 3
   },
   "file_extension": ".py",
   "mimetype": "text/x-python",
   "name": "python",
   "nbconvert_exporter": "python",
   "pygments_lexer": "ipython3",
   "version": "3.10.8"
  }
 },
 "nbformat": 4,
 "nbformat_minor": 5
}
